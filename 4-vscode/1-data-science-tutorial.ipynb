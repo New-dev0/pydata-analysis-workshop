{
 "cells": [
  {
   "cell_type": "markdown",
   "metadata": {},
   "source": [
    "# Data Science in VS Code tutorial\n",
    "\n",
    "Let's walk through the complete [Data Science in VS Code tutorial](https://code.visualstudio.com/docs/datascience/data-science-tutorial) using this Jupyter Notebook to copy over the code, run it, and capture our observations for each step in markdown cells. Along the way, explore how we can take advantage of the Data Science Profile we setup (with the Data Wrangler extension) to make our data science workflow more efficient.\n",
    "\n",
    "For convenience, the dataset used for this tutorial (`titanic3.csv`) has already been downloaded to the repo under the `1-data/` folder. All you need to do is load it update the code to reference the right location."
   ]
  },
  {
   "cell_type": "markdown",
   "metadata": {},
   "source": [
    "---\n",
    "\n",
    "## 1. Set up a data science environment\n",
    "\n",
    "The [instructions](https://code.visualstudio.com/docs/datascience/data-science-tutorial#_set-up-a-data-science-environment) require you to setup the required environment manually. However, _this_ dev container is already configured with all the packages and libraries you need (under `requirements.txt`), specifically the following:\n",
    " - pandas\n",
    " - jupyter \n",
    " - seaborn\n",
    " - scikit-learn\n",
    " - keras\n",
    " - tensorflow\n",
    "Note that if you want to add any additional libraries (for your own exploration), make sure you update the `requirements.txt` file, save it, and rebuild the dev container to have them take effect.\n",
    "\n",
    "Once you open this notebook in your dev container (GitHub Codespaces or Docker Desktop) runtime, you should:\n",
    " - `Select Kernel` (top right) - gets a drop down of options\n",
    " - Select `Python Envionments` - gets you a list of available options\n",
    " - Select `Python 3.10.13` - or whatever shows as the recommended one in the list\n",
    " - Check that the `Select Kernel` box is now updated to show this runtime.\n",
    "\n",
    "You are now ready to run the code in this notebook."
   ]
  },
  {
   "cell_type": "markdown",
   "metadata": {},
   "source": [
    "---\n",
    "\n",
    "## 2. Prepare the data\n",
    "\n",
    "The [instructions](https://code.visualstudio.com/docs/datascience/data-science-tutorial#_prepare-the-data) start by loading the data from a downloaded CSV file. Let's modify that to use the location in this repo - and run just the first cell. This also validates that our Jupyter Notebook environment is working correctly."
   ]
  },
  {
   "cell_type": "code",
   "execution_count": 1,
   "metadata": {},
   "outputs": [
    {
     "name": "stdout",
     "output_type": "stream",
     "text": [
      "   pclass  survived                                             name     sex  \\\n",
      "0       1         1                    Allen, Miss. Elisabeth Walton  female   \n",
      "1       1         1                   Allison, Master. Hudson Trevor    male   \n",
      "2       1         0                     Allison, Miss. Helen Loraine  female   \n",
      "3       1         0             Allison, Mr. Hudson Joshua Creighton    male   \n",
      "4       1         0  Allison, Mrs. Hudson J C (Bessie Waldo Daniels)  female   \n",
      "\n",
      "     age  sibsp  parch  ticket      fare    cabin embarked boat   body  \\\n",
      "0  29.00      0      0   24160  211.3375       B5        S    2    NaN   \n",
      "1   0.92      1      2  113781  151.5500  C22 C26        S   11    NaN   \n",
      "2   2.00      1      2  113781  151.5500  C22 C26        S  NaN    NaN   \n",
      "3  30.00      1      2  113781  151.5500  C22 C26        S  NaN  135.0   \n",
      "4  25.00      1      2  113781  151.5500  C22 C26        S  NaN    NaN   \n",
      "\n",
      "                         home.dest  \n",
      "0                     St Louis, MO  \n",
      "1  Montreal, PQ / Chesterville, ON  \n",
      "2  Montreal, PQ / Chesterville, ON  \n",
      "3  Montreal, PQ / Chesterville, ON  \n",
      "4  Montreal, PQ / Chesterville, ON  \n"
     ]
    }
   ],
   "source": [
    "# 2.1 | Load the Data into a Pandas Dataframe\n",
    "import pandas as pd\n",
    "import numpy as np\n",
    "df = pd.read_csv('./../1-data/titanic3.csv')\n",
    "\n",
    "# 2.2 | Have Pandas Show the First Few Rows of the Data\n",
    "df.head()"
   ]
  }
 ],
 "metadata": {
  "kernelspec": {
   "display_name": "Python 3",
   "language": "python",
   "name": "python3"
  },
  "language_info": {
   "codemirror_mode": {
    "name": "ipython",
    "version": 3
   },
   "file_extension": ".py",
   "mimetype": "text/x-python",
   "name": "python",
   "nbconvert_exporter": "python",
   "pygments_lexer": "ipython3",
   "version": "3.10.13"
  },
  "orig_nbformat": 4
 },
 "nbformat": 4,
 "nbformat_minor": 2
}
