{
 "cells": [
  {
   "cell_type": "markdown",
   "metadata": {},
   "source": [
    "# IPL 2022 Cricket Data from CSV\n",
    "\n",
    "This notebooks reads sample cricket data from `1-data/kaggle/IPL-2022.csv and plots it using Matplotlib using a minimally modified version of the code from the population example before.\n",
    "\n",
    "We know from the CSV file that it has these columns of data:\n",
    "match_id,date,venue,team1,team2,stage,toss_winner,toss_decision,first_ings_score,first_ings_wkts,second_ings_score,second_ings_wkts,match_winner,won_by,margin,player_of_the_match,top_scorer,highscore,best_bowling,best_bowling_figure"
   ]
  },
  {
   "cell_type": "code",
   "execution_count": null,
   "metadata": {},
   "outputs": [],
   "source": [
    "import matplotlib.pyplot as plt\n",
    "import pandas\n",
    "\n",
    "df = pandas.read_csv('../1-data/kaggle/IPL-2022.csv')\n",
    "x = df['first_ings_score']\n",
    "y = df['second_ings_score']\n",
    "\n",
    "plt.plot(x,y)\n",
    "plt.title(\"Team Scores Comparison\")\n",
    "plt.xlabel('1st Innings')\n",
    "plt.ylabel('2nd Innings')\n",
    "plt.show()"
   ]
  }
 ],
 "metadata": {
  "kernelspec": {
   "display_name": "Python 3.10.4 64-bit",
   "language": "python",
   "name": "python3"
  },
  "language_info": {
   "codemirror_mode": {
    "name": "ipython",
    "version": 3
   },
   "file_extension": ".py",
   "mimetype": "text/x-python",
   "name": "python",
   "nbconvert_exporter": "python",
   "pygments_lexer": "ipython3",
   "version": "3.10.13"
  },
  "orig_nbformat": 4,
  "vscode": {
   "interpreter": {
    "hash": "3ad933181bd8a04b432d3370b9dc3b0662ad032c4dfaa4e4f1596c548f763858"
   }
  }
 },
 "nbformat": 4,
 "nbformat_minor": 2
}
