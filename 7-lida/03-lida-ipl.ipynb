{
 "cells": [
  {
   "cell_type": "markdown",
   "metadata": {},
   "source": [
    "# 1. Project LIDA\n",
    "\n",
    "LIDA is a library for generating data visualizations and data-faithful infographics. LIDA is grammar agnostic (will work with any programming language and visualization libraries e.g. matplotlib, seaborn, altair, d3 etc) and works with multiple large language model providers (OpenAI, Azure OpenAI, PaLM, Cohere, Huggingface).Details on the components of LIDA are described in [this paper](https://arxiv.org/abs/2303.02927) - star [this project](https://aka.ms/lida/github) for updates. \n",
    "\n",
    "LIDA _treats visualizations as code_ and provides a clean api for generating, executing, editing, explaining, evaluating and repairing visualization code. Here are some tasks you can execute with LIDA.\n",
    "\n",
    "- ✅ Data Summarization\n",
    "- ✅ Goal Generation\n",
    "- ✅ Visualization Generation\n",
    "- ⬜️ Visualization Editing\n",
    "- ✅ Visualization Explanation\n",
    "- ⬜️ Visualization Evaluation and Repair\n",
    "- ✅ Visualization Recommendation\n",
    "- ⬜️ Infographic Generation (beta) # pip install lida[infographics]\n",
    "\n",
    "![LIDA Modules illustrated](https://github.com/microsoft/lida/raw/main/docs/images/lidamodules.jpg)"
   ]
  },
  {
   "cell_type": "markdown",
   "metadata": {},
   "source": [
    "## 1. Data Summarization\n",
    "Given a dataset, generate a compact summary of that data in a compact natural language representation that serves as context for subsequent tasks. The goal of the summarizer is to _produce an dense-but-compact information summary for a given dataset that is useful as grounding context for visualization tasks_. The grounding context is defined as one that contains information an analyst would need to understand the dataset and the tasks that can be performed on it.\n",
    "\n",
    "See [paper](https://arxiv.org/pdf/2303.02927.pdf) for details"
   ]
  },
  {
   "cell_type": "code",
   "execution_count": 1,
   "metadata": {},
   "outputs": [],
   "source": [
    "# Setup\n",
    "from lida import Manager, TextGenerationConfig , llm  \n",
    "\n",
    "csvfile = \"./../1-data/kaggle/IPL-2022.csv\"\n",
    "lida = Manager(text_gen = llm(\"openai\")) # palm, cohere .\n",
    "textgen_config = TextGenerationConfig(n=1, temperature=0.5, model=\"gpt-3.5-turbo-0301\", use_cache=True)"
   ]
  },
  {
   "cell_type": "code",
   "execution_count": 2,
   "metadata": {},
   "outputs": [
    {
     "name": "stdout",
     "output_type": "stream",
     "text": [
      "name : IPL-2022.csv\n",
      "file_name : IPL-2022.csv\n",
      "dataset_description : \n",
      "fields : [{'column': 'match_id', 'properties': {'dtype': 'number', 'std': 21, 'min': 1, 'max': 74, 'samples': [5, 64, 19], 'num_unique_values': 74, 'semantic_type': '', 'description': ''}}, {'column': 'date', 'properties': {'dtype': 'string', 'samples': ['May 15,2022', 'May 21,2022', 'March 26,2022'], 'num_unique_values': 62, 'semantic_type': '', 'description': ''}}, {'column': 'venue', 'properties': {'dtype': 'category', 'samples': ['Wankhede Stadium, Mumbai', 'Brabourne Stadium, Mumbai', 'Narendra Modi Stadium, Ahmedabad'], 'num_unique_values': 6, 'semantic_type': '', 'description': ''}}, {'column': 'team1', 'properties': {'dtype': 'category', 'samples': ['Lucknow', 'Delhi', 'Kolkata'], 'num_unique_values': 9, 'semantic_type': '', 'description': ''}}, {'column': 'team2', 'properties': {'dtype': 'category', 'samples': ['Chennai', 'Mumbai', 'Gujarat'], 'num_unique_values': 9, 'semantic_type': '', 'description': ''}}, {'column': 'stage', 'properties': {'dtype': 'category', 'samples': ['Group', 'Playoff', 'Final'], 'num_unique_values': 3, 'semantic_type': '', 'description': ''}}, {'column': 'toss_winner', 'properties': {'dtype': 'category', 'samples': ['Chennai', 'Delhi', 'Banglore'], 'num_unique_values': 10, 'semantic_type': '', 'description': ''}}, {'column': 'toss_decision', 'properties': {'dtype': 'category', 'samples': ['Bat', 'Field'], 'num_unique_values': 2, 'semantic_type': '', 'description': ''}}, {'column': 'first_ings_score', 'properties': {'dtype': 'number', 'std': 29, 'min': 68, 'max': 222, 'samples': [168, 128], 'num_unique_values': 55, 'semantic_type': '', 'description': ''}}, {'column': 'first_ings_wkts', 'properties': {'dtype': 'number', 'std': 2, 'min': 0, 'max': 10, 'samples': [9, 2], 'num_unique_values': 10, 'semantic_type': '', 'description': ''}}, {'column': 'second_ings_score', 'properties': {'dtype': 'number', 'std': 29, 'min': 72, 'max': 211, 'samples': [155, 125], 'num_unique_values': 50, 'semantic_type': '', 'description': ''}}, {'column': 'second_ings_wkts', 'properties': {'dtype': 'number', 'std': 2, 'min': 1, 'max': 10, 'samples': [3, 6], 'num_unique_values': 10, 'semantic_type': '', 'description': ''}}, {'column': 'match_winner', 'properties': {'dtype': 'category', 'samples': ['Chennai', 'Delhi'], 'num_unique_values': 10, 'semantic_type': '', 'description': ''}}, {'column': 'won_by', 'properties': {'dtype': 'category', 'samples': ['Runs', 'Wickets'], 'num_unique_values': 2, 'semantic_type': '', 'description': ''}}, {'column': 'margin', 'properties': {'dtype': 'number', 'std': 19, 'min': 2, 'max': 91, 'samples': [62, 9], 'num_unique_values': 31, 'semantic_type': '', 'description': ''}}, {'column': 'player_of_the_match', 'properties': {'dtype': 'string', 'samples': ['Umesh Yadav', 'Wanindu Hasaranga'], 'num_unique_values': 56, 'semantic_type': '', 'description': ''}}, {'column': 'top_scorer', 'properties': {'dtype': 'string', 'samples': ['Kane Williamson', 'Abhishek Sharma'], 'num_unique_values': 37, 'semantic_type': '', 'description': ''}}, {'column': 'highscore', 'properties': {'dtype': 'number', 'std': 20, 'min': 28, 'max': 140, 'samples': [76, 67], 'num_unique_values': 46, 'semantic_type': '', 'description': ''}}, {'column': 'best_bowling', 'properties': {'dtype': 'string', 'samples': ['Krunal Pandya', 'Rashid Khan'], 'num_unique_values': 42, 'semantic_type': '', 'description': ''}}, {'column': 'best_bowling_figure', 'properties': {'dtype': 'string', 'samples': ['4--34', '3--13'], 'num_unique_values': 51, 'semantic_type': '', 'description': ''}}]\n",
      "field_names : ['match_id', 'date', 'venue', 'team1', 'team2', 'stage', 'toss_winner', 'toss_decision', 'first_ings_score', 'first_ings_wkts', 'second_ings_score', 'second_ings_wkts', 'match_winner', 'won_by', 'margin', 'player_of_the_match', 'top_scorer', 'highscore', 'best_bowling', 'best_bowling_figure']\n"
     ]
    }
   ],
   "source": [
    "# Summarize\n",
    "summary = lida.summarize(csvfile)\n",
    "summary_data = list(summary.keys())\n",
    "for keys in summary_data:\n",
    "    print(keys, \":\", summary[keys])"
   ]
  },
  {
   "cell_type": "markdown",
   "metadata": {},
   "source": [
    "## 2. Goal Generation\n",
    "\n",
    "Given the dataset \"context\" generated by the summarizer, the LLM must now _generate a question (hypothesis), a visualization (that addresses the question) and a rationale (for that visualization)_. The research found that requiring the LLM to produce a rationale led to more semantically meaningful goals.\n",
    "\n",
    "The generation API takes these parameters - the summary, the number of goals to generate (n) and a persona (optional) that influences the tone or context for the goals generated. And the textgen_config that configures parameters for the given model.\n",
    "\n",
    "See [paper](https://arxiv.org/pdf/2303.02927.pdf) for details"
   ]
  },
  {
   "cell_type": "code",
   "execution_count": 3,
   "metadata": {},
   "outputs": [
    {
     "data": {
      "text/markdown": [
       "\n",
       "### Goal 0\n",
       "---\n",
       "**Question:** What is the distribution of first innings scores for Mumbai team in different venues?\n",
       "\n",
       "**Visualization:** `bar chart of first_ings_score and venue filtered for Mumbai team`\n",
       "\n",
       "**Rationale:** This visualization will help us understand the performance of Mumbai team in different venues. It will show us the venues where Mumbai team has scored the highest and lowest first innings scores. This information can be used by the persona to understand which venues are favorable or unfavorable for Mumbai team.\n"
      ],
      "text/plain": [
       "Goal(question='What is the distribution of first innings scores for Mumbai team in different venues?', visualization='bar chart of first_ings_score and venue filtered for Mumbai team', rationale='This visualization will help us understand the performance of Mumbai team in different venues. It will show us the venues where Mumbai team has scored the highest and lowest first innings scores. This information can be used by the persona to understand which venues are favorable or unfavorable for Mumbai team.', index=0)"
      ]
     },
     "metadata": {},
     "output_type": "display_data"
    },
    {
     "data": {
      "text/markdown": [
       "\n",
       "### Goal 1\n",
       "---\n",
       "**Question:** What is the distribution of second innings scores for Mumbai team in different stages of the tournament?\n",
       "\n",
       "**Visualization:** `bar chart of second_ings_score and stage filtered for Mumbai team`\n",
       "\n",
       "**Rationale:** This visualization will help us understand the performance of Mumbai team in different stages of the tournament. It will show us the stages where Mumbai team has scored the highest and lowest second innings scores. This information can be used by the persona to understand which stages of the tournament are favorable or unfavorable for Mumbai team.\n"
      ],
      "text/plain": [
       "Goal(question='What is the distribution of second innings scores for Mumbai team in different stages of the tournament?', visualization='bar chart of second_ings_score and stage filtered for Mumbai team', rationale='This visualization will help us understand the performance of Mumbai team in different stages of the tournament. It will show us the stages where Mumbai team has scored the highest and lowest second innings scores. This information can be used by the persona to understand which stages of the tournament are favorable or unfavorable for Mumbai team.', index=1)"
      ]
     },
     "metadata": {},
     "output_type": "display_data"
    },
    {
     "data": {
      "text/markdown": [
       "\n",
       "### Goal 2\n",
       "---\n",
       "**Question:** What is the trend of Mumbai team's first innings scores over time?\n",
       "\n",
       "**Visualization:** `line chart of first_ings_score and date filtered for Mumbai team`\n",
       "\n",
       "**Rationale:** This visualization will help us understand the trend of Mumbai team's first innings scores over time. It will show us if there is any improvement or decline in the performance of Mumbai team's first innings scores over the course of the tournament. This information can be used by the persona to understand the overall performance of Mumbai team.\n"
      ],
      "text/plain": [
       "Goal(question=\"What is the trend of Mumbai team's first innings scores over time?\", visualization='line chart of first_ings_score and date filtered for Mumbai team', rationale=\"This visualization will help us understand the trend of Mumbai team's first innings scores over time. It will show us if there is any improvement or decline in the performance of Mumbai team's first innings scores over the course of the tournament. This information can be used by the persona to understand the overall performance of Mumbai team.\", index=2)"
      ]
     },
     "metadata": {},
     "output_type": "display_data"
    },
    {
     "data": {
      "text/markdown": [
       "\n",
       "### Goal 3\n",
       "---\n",
       "**Question:** What is the distribution of the margin of victory for Mumbai team in different venues?\n",
       "\n",
       "**Visualization:** `bar chart of margin and venue filtered for Mumbai team`\n",
       "\n",
       "**Rationale:** This visualization will help us understand the margin of victory for Mumbai team in different venues. It will show us the venues where Mumbai team has won by the highest and lowest margins. This information can be used by the persona to understand which venues are favorable or unfavorable for Mumbai team.\n"
      ],
      "text/plain": [
       "Goal(question='What is the distribution of the margin of victory for Mumbai team in different venues?', visualization='bar chart of margin and venue filtered for Mumbai team', rationale='This visualization will help us understand the margin of victory for Mumbai team in different venues. It will show us the venues where Mumbai team has won by the highest and lowest margins. This information can be used by the persona to understand which venues are favorable or unfavorable for Mumbai team.', index=3)"
      ]
     },
     "metadata": {},
     "output_type": "display_data"
    },
    {
     "data": {
      "text/markdown": [
       "\n",
       "### Goal 4\n",
       "---\n",
       "**Question:** What is the distribution of player of the match awards for Mumbai team?\n",
       "\n",
       "**Visualization:** `bar chart of count of player_of_the_match and team1 filtered for Mumbai team`\n",
       "\n",
       "**Rationale:** This visualization will help us understand the performance of individual players in Mumbai team. It will show us which players have won the most player of the match awards. This information can be used by the persona to understand the key players in Mumbai team and their contribution to the team's performance.\n"
      ],
      "text/plain": [
       "Goal(question='What is the distribution of player of the match awards for Mumbai team?', visualization='bar chart of count of player_of_the_match and team1 filtered for Mumbai team', rationale=\"This visualization will help us understand the performance of individual players in Mumbai team. It will show us which players have won the most player of the match awards. This information can be used by the persona to understand the key players in Mumbai team and their contribution to the team's performance.\", index=4)"
      ]
     },
     "metadata": {},
     "output_type": "display_data"
    }
   ],
   "source": [
    "# generate 5 goals from the summary - with the persona is a fan of the Mumbai team\n",
    "goals = lida.goals(summary, n=5, textgen_config=textgen_config, persona=\"fam of the Mumbai team who wants to see their stats\") # exploratory data analysis\n",
    "\n",
    "# create a list of dictionaries containing the goal information\n",
    "import pandas as pd\n",
    "goal_list = []\n",
    "for goal in goals:\n",
    "    display(goal)"
   ]
  },
  {
   "cell_type": "code",
   "execution_count": null,
   "metadata": {},
   "outputs": [],
   "source": [
    "\n",
    "# generate 10 goals from the summary with default persona\n",
    "goals = lida.goals(summary, n=10, textgen_config=textgen_config,) # exploratory data analysis\n",
    "\n",
    "# create a list of dictionaries containing the goal information\n",
    "import pandas as pd\n",
    "goal_list = []\n",
    "for goal in goals:\n",
    "    goal_dict = {'Question': goal.question, 'Visualization': goal.visualization, 'Rationale': goal.rationale}\n",
    "    goal_list.append(goal_dict)\n",
    "df = pd.DataFrame(goal_list)\n",
    "display(df)"
   ]
  },
  {
   "cell_type": "markdown",
   "metadata": {},
   "source": [
    "## 3. Visualization Generation"
   ]
  },
  {
   "cell_type": "code",
   "execution_count": null,
   "metadata": {},
   "outputs": [],
   "source": [
    "# Visualize A Goal \n",
    "charts = lida.visualize(summary=summary, goal=goals[0]) # exploratory data analysis\n",
    "print(\"Charts length:\", len(charts))\n",
    "charts[0]"
   ]
  },
  {
   "cell_type": "code",
   "execution_count": null,
   "metadata": {},
   "outputs": [],
   "source": [
    "# Visualize a Goal - and specify a library\n",
    "target = goals[2]\n",
    "library = \"matplotlib\"\n",
    "charts = lida.visualize(summary=summary, goal=target, library=library) # exploratory data analysis\n",
    "charts[0]"
   ]
  },
  {
   "cell_type": "code",
   "execution_count": null,
   "metadata": {},
   "outputs": [],
   "source": [
    "# Visualize it again - and specify a different library and textgen_config (change temperature)\n",
    "target = goals[2]\n",
    "library = \"seaborn\"\n",
    "textgen_config = TextGenerationConfig(n=1, temperature=0.2, use_cache=True)\n",
    "charts = lida.visualize(summary=summary, goal=target,library=library,textgen_config=textgen_config) # exploratory data analysis\n",
    "charts[0]"
   ]
  },
  {
   "cell_type": "code",
   "execution_count": null,
   "metadata": {},
   "outputs": [],
   "source": [
    "# Use natural language user query instead of pre-formulated goal\n",
    "user_query = \"What is the frequency of toss decisions based on team ?\"\n",
    "textgen_config = TextGenerationConfig(n=1, temperature=0.2, use_cache=True)\n",
    "charts = lida.visualize(summary=summary, goal=user_query, textgen_config=textgen_config)  \n",
    "charts[0]"
   ]
  },
  {
   "cell_type": "markdown",
   "metadata": {},
   "source": [
    "## 4. Visualization Explanation"
   ]
  },
  {
   "cell_type": "code",
   "execution_count": null,
   "metadata": {},
   "outputs": [],
   "source": [
    "# Explain visualization\n",
    "explanation = lida.explain(code=charts[0].code)\n",
    "for obj in explanation[0]:\n",
    "    display(obj)\n"
   ]
  },
  {
   "cell_type": "code",
   "execution_count": null,
   "metadata": {},
   "outputs": [],
   "source": [
    "# Edit visualization - modify using natural language -- insufficient tokens in model to run this\n",
    "#instructions = [\"change the color to green\", \"translate the title to french\"]\n",
    "# edited_charts = lida.edit(code=charts[0],  summary=summary, instructions=instructions)"
   ]
  },
  {
   "cell_type": "markdown",
   "metadata": {},
   "source": [
    "## 5. Visualization Recommendation"
   ]
  },
  {
   "cell_type": "code",
   "execution_count": null,
   "metadata": {},
   "outputs": [],
   "source": [
    "# Recommend 3 visualizations \n",
    "recommendations = lida.recommend(code=charts[0].code, summary=summary, n=3,  textgen_config=textgen_config)\n",
    "\n",
    "for chart in recommendations:\n",
    "    display(chart) "
   ]
  },
  {
   "cell_type": "code",
   "execution_count": null,
   "metadata": {},
   "outputs": [],
   "source": [
    "user_query = \"Who won the most cricket games? Use a colorful palette. Show the x-axis labels in a vertical orientation. Increase height of chart by 15%\"\n",
    "textgen_config = TextGenerationConfig(n=1, temperature=0.2, use_cache=True)\n",
    "charts = lida.visualize(summary=summary, goal=user_query, textgen_config=textgen_config, library=\"matplotlib\")  \n",
    "charts[0]"
   ]
  }
 ],
 "metadata": {
  "kernelspec": {
   "display_name": "base",
   "language": "python",
   "name": "python3"
  },
  "language_info": {
   "codemirror_mode": {
    "name": "ipython",
    "version": 3
   },
   "file_extension": ".py",
   "mimetype": "text/x-python",
   "name": "python",
   "nbconvert_exporter": "python",
   "pygments_lexer": "ipython3",
   "version": "3.10.13"
  },
  "vscode": {
   "interpreter": {
    "hash": "189101fc34b85ec7417252a331b6b3ef556b71030ac1f6fe00bfbe1409305460"
   }
  }
 },
 "nbformat": 4,
 "nbformat_minor": 2
}
