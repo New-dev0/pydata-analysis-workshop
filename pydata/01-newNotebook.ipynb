{
 "cells": [
  {
   "cell_type": "markdown",
   "metadata": {},
   "source": [
    "# Rectangle Geometry\n",
    "\n",
    "Let's look at the [Blocked Billboard](http://www.usaco.org/index.php?page=viewproblem2&cpid=759) problem from USACO 2017 December Contest, Bronze\n"
   ]
  },
  {
   "cell_type": "markdown",
   "metadata": {},
   "source": [
    "During long milking sessions, Bessie the cow likes to stare out the window of her barn at two huge rectangular billboards across the street advertising \"Farmer Alex's Amazingly Appetizing Alfalfa\" and \"Farmer Greg's Great Grain\". Pictures of these two cow feed products on the billboards look much tastier to Bessie than the grass from her farm.\n",
    "One day, as Bessie is staring out the window, she is alarmed to see a huge rectangular truck parking across the street. The side of the truck has an advertisement for \"Farmer Smith's Superb Steaks\", which Bessie doesn't quite understand, but she is mostly concerned about the truck potentially blocking the view of her two favorite billboards.\n",
    "\n",
    "Given the locations of the two billboards and the location of the truck, please calculate the total combined area of both billboards that is still visible. It is possible that the truck obscures neither, both, or only one of the billboards."
   ]
  },
  {
   "cell_type": "markdown",
   "metadata": {},
   "source": [
    "**INPUT FORMAT (file billboard.in):**\n",
    "\n",
    "The first line of input contains four space-separated integers: x1\n",
    " y1\n",
    " x2\n",
    " y2\n",
    ", where (x1,y1)\n",
    " and (x2,y2)\n",
    " are the coordinates of the lower-left and upper-right corners of the first billboard in Bessie's 2D field of view. \n",
    " \n",
    " The next line contains four more integers, similarly specifying the lower-left and upper-right corners of the second billboard. The third and final line of input contains four integers specifying the lower-left and upper-right corners of the truck. All coordinates are in the range -1000 to +1000. The two billboards are guaranteed not to have any positive area of overlap between themselves."
   ]
  },
  {
   "cell_type": "markdown",
   "metadata": {},
   "source": [
    "**OUTPUT FORMAT (file billboard.out):**\n",
    "Please output the total combined area of both billboards that remains visible."
   ]
  },
  {
   "cell_type": "markdown",
   "metadata": {},
   "source": [
    "**SAMPLE INPUT**\n",
    "\n",
    "1 2 3 5\n",
    "6 0 10 4\n",
    "2 1 8 3"
   ]
  },
  {
   "cell_type": "markdown",
   "metadata": {},
   "source": [
    "\n",
    "**SAMPLE OUTPUT:**\n",
    "\n",
    "17\n",
    "\n",
    "Here, 5 units of area from the first billboard and 12 units of area from the second billboard remain visible."
   ]
  },
  {
   "cell_type": "markdown",
   "metadata": {},
   "source": [
    "---"
   ]
  },
  {
   "cell_type": "markdown",
   "metadata": {},
   "source": [
    "# Solution 1: \n",
    "\n",
    "Time Complexity: $\\mathcal{O}((\\text{max coordinate})^2)$\n",
    "\n",
    "This is the [Slow Solution](https://usaco.guide/bronze/rect-geo?lang=py#problem-usaco-759) provided for learners to explore\n",
    "\n",
    "Since all coordinates are in the range $[-1000,1000]$, we can simply go through\n",
    "each of the $2000^2$ possible visible squares and check which ones are visible\n",
    "using nested for loops.\n",
    "\n",
    "Code runs marginally faster in Python\n",
    "when placed in a function,\n",
    "so we can use this to get all 10 test cases. When taken out of\n",
    "the function, the code passes only 9 test cases."
   ]
  },
  {
   "cell_type": "code",
   "execution_count": 4,
   "metadata": {},
   "outputs": [],
   "source": [
    "import sys\n",
    "\n",
    "MAX_POS = 2000\n",
    "\n",
    "\n",
    "def main():\n",
    "\tsys.stdin = open(\"billboard.in\", \"r\")\n",
    "\tsys.stdout = open(\"billboard.out\", \"w\")\n",
    "\n",
    "\tvisible = [[False for _ in range(MAX_POS)] for _ in range(MAX_POS)]\n",
    "\n",
    "\tfor i in range(3):\n",
    "\t\tx1, y1, x2, y2 = map(int, input().split())\n",
    "\t\tx1 += MAX_POS // 2\n",
    "\t\ty1 += MAX_POS // 2\n",
    "\t\tx2 += MAX_POS // 2\n",
    "\t\ty2 += MAX_POS // 2\n",
    "\t\tfor x in range(x1, x2):\n",
    "\t\t\tfor y in range(y1, y2):\n",
    "\t\t\t\tvisible[x][y] = i < 2\n",
    "\n",
    "\tans = 0\n",
    "\tfor x in range(MAX_POS):\n",
    "\t\tfor y in range(MAX_POS):\n",
    "\t\t\tans += visible[x][y]\n",
    "\tprint(ans)\n",
    "\n",
    "\n",
    "main()"
   ]
  },
  {
   "cell_type": "markdown",
   "metadata": {},
   "source": []
  },
  {
   "cell_type": "code",
   "execution_count": 5,
   "metadata": {},
   "outputs": [
    {
     "data": {
      "image/png": "[encoded data removed]",
      "text/plain": [
       "<Figure size 640x480 with 1 Axes>"
      ]
     },
     "metadata": {},
     "output_type": "display_data"
    }
   ],
   "source": [
    "import matplotlib.pyplot as plt\n",
    "\n",
    "# billboard 1 coordinates\n",
    "x1, y1, x2, y2 = 1, 2, 3, 5\n",
    "\n",
    "# billboard 2 coordinates\n",
    "x3, y3, x4, y4 = 6, 0, 10, 4\n",
    "\n",
    "# plot the billboards\n",
    "fig, ax = plt.subplots()\n",
    "ax.add_patch(plt.Rectangle((x1, y1), x2-x1, y2-y1, fill=False, edgecolor='blue'))\n",
    "ax.add_patch(plt.Rectangle((x3, y3), x4-x3, y4-y3, fill=False, edgecolor='red'))\n",
    "plt.xlim(-10, 20)\n",
    "plt.ylim(-10, 20)\n",
    "plt.show()\n"
   ]
  },
  {
   "cell_type": "code",
   "execution_count": 6,
   "metadata": {},
   "outputs": [
    {
     "data": {
      "image/png": "[encoded data removed]",
      "text/plain": [
       "<Figure size 640x480 with 1 Axes>"
      ]
     },
     "metadata": {},
     "output_type": "display_data"
    }
   ],
   "source": [
    "import matplotlib.pyplot as plt\n",
    "\n",
    "# billboard 1 coordinates\n",
    "x1, y1, x2, y2 = 1, 2, 3, 5\n",
    "\n",
    "# billboard 2 coordinates\n",
    "x3, y3, x4, y4 = 6, 0, 10, 4\n",
    "\n",
    "# truck coordinates\n",
    "x5, y5, x6, y6 = 2, 1, 8, 3\n",
    "\n",
    "# plot the billboards and the truck\n",
    "fig, ax = plt.subplots()\n",
    "ax.add_patch(plt.Rectangle((x1, y1), x2-x1, y2-y1, fill=False, edgecolor='blue'))\n",
    "ax.add_patch(plt.Rectangle((x3, y3), x4-x3, y4-y3, fill=False, edgecolor='red'))\n",
    "ax.add_patch(plt.Rectangle((x5, y5), x6-x5, y6-y5, fill=False, edgecolor='green'))\n",
    "plt.xlim(-10, 20)\n",
    "plt.ylim(-10, 20)\n",
    "plt.show()\n"
   ]
  }
 ],
 "metadata": {
  "kernelspec": {
   "display_name": "Python 3",
   "language": "python",
   "name": "python3"
  },
  "language_info": {
   "codemirror_mode": {
    "name": "ipython",
    "version": 3
   },
   "file_extension": ".py",
   "mimetype": "text/x-python",
   "name": "python",
   "nbconvert_exporter": "python",
   "pygments_lexer": "ipython3",
   "version": "3.10.8"
  },
  "orig_nbformat": 4
 },
 "nbformat": 4,
 "nbformat_minor": 2
}
