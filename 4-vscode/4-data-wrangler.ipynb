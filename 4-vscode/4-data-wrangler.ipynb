{
 "cells": [
  {
   "cell_type": "markdown",
   "metadata": {},
   "source": [
    "# Import Required Libraries\n",
    "Import the necessary libraries, including pandas, seaborn, and matplotlib."
   ]
  },
  {
   "cell_type": "markdown",
   "metadata": {},
   "source": [
    "# Learner Comments\n",
    "\n",
    "This notebook was created by GitHub Copilot Chat using the following prompt:\n",
    "\n",
    "```\n",
    "@workspace /newNotebook create a new notebook for data analysis that loads data from the 1-data/kaggle/IPL-2022.csv file and visualizes it using seaborn\n",
    "```\n"
   ]
  },
  {
   "cell_type": "code",
   "execution_count": null,
   "metadata": {},
   "outputs": [],
   "source": [
    "# Importing the necessary libraries\n",
    "import pandas as pd\n",
    "import seaborn as sns\n",
    "import matplotlib.pyplot as plt"
   ]
  },
  {
   "cell_type": "markdown",
   "metadata": {},
   "source": [
    "# Load the Dataset\n",
    "Load the '1-data/kaggle/IPL-2022.csv' file using pandas."
   ]
  },
  {
   "cell_type": "code",
   "execution_count": null,
   "metadata": {},
   "outputs": [],
   "source": [
    "# Load the Dataset\n",
    "data = pd.read_csv('../1-data/kaggle/IPL-2022.csv')\n",
    "\n",
    "# Display the first few rows of the dataset\n",
    "data.head()"
   ]
  },
  {
   "cell_type": "markdown",
   "metadata": {},
   "source": [
    "# Inspect the Dataset\n",
    "Use pandas functions like head(), info(), and describe() to inspect the dataset."
   ]
  },
  {
   "cell_type": "code",
   "execution_count": null,
   "metadata": {},
   "outputs": [],
   "source": [
    "# Inspect the Dataset\n",
    "# Display the information of the dataset\n",
    "data.info()\n",
    "\n",
    "# Display the statistical summary of the dataset\n",
    "data.describe()\n",
    "\n",
    "# Display the number of missing values in each column\n",
    "data.isnull().sum()"
   ]
  },
  {
   "cell_type": "markdown",
   "metadata": {},
   "source": [
    "# Data Cleaning\n",
    "Clean the dataset by handling missing values and outliers if any."
   ]
  },
  {
   "cell_type": "code",
   "execution_count": null,
   "metadata": {},
   "outputs": [],
   "source": [
    "# Data Cleaning\n",
    "# Check for missing values\n",
    "missing_values = data.isnull().sum()\n",
    "print(f\"Missing values in each column:\\n{missing_values}\")\n",
    "\n",
    "# Fill missing values with appropriate method, here we use forward fill method as an example\n",
    "data.fillna(method='ffill', inplace=True)\n",
    "\n",
    "# Check for outliers in the dataset, here we use Z-score as an example\n",
    "from scipy import stats\n",
    "\n",
    "z_scores = stats.zscore(data.select_dtypes(include=[np.number]))\n",
    "abs_z_scores = np.abs(z_scores)\n",
    "filtered_entries = (abs_z_scores < 3).all(axis=1)\n",
    "data = data[filtered_entries]\n",
    "\n",
    "# Display the cleaned data\n",
    "data.head()"
   ]
  },
  {
   "cell_type": "markdown",
   "metadata": {},
   "source": [
    "# Data Visualization with Seaborn\n",
    "Visualize the dataset using seaborn library. Create plots like bar plot, box plot, scatter plot, etc."
   ]
  },
  {
   "cell_type": "code",
   "execution_count": null,
   "metadata": {},
   "outputs": [],
   "source": [
    "import seaborn as sns\n",
    "# Data Visualization with Seaborn\n",
    "\n",
    "import matplotlib.pyplot as plt\n",
    "\n",
    "# Create a bar plot for runs by venue\n",
    "sns.countplot(x='venue', data=data)\n",
    "plt.xticks(rotation=90)\n",
    "plt.xlabel('Venue')\n",
    "plt.ylabel('Runs')\n",
    "plt.title('Runs by Venue')\n",
    "plt.show()\n",
    "\n",
    "import matplotlib.pyplot as plt\n",
    "\n",
    "# Assuming first_ings_score and second_ings_score are already defined\n",
    "plt.scatter(data['first_ings_score'], data['second_ings_score'])\n",
    "plt.xlabel('First Innings Score')\n",
    "plt.ylabel('Second Innings Score')\n",
    "plt.title('Scatter Plot: First Innings Score vs Second Innings Score')\n",
    "plt.show()\n",
    "\n",
    "# Pair Plot\n",
    "# Let's create a pair plot for the entire dataset to visualize all pairs of numerical columns\n",
    "sns.pairplot(data)\n",
    "plt.show()\n",
    "\n",
    "# Correlation Heatmap\n",
    "# Let's create a heatmap for the correlation matrix of the dataset\n",
    "sns.heatmap(data.corr(), annot=True, cmap='coolwarm')\n",
    "plt.show()"
   ]
  },
  {
   "cell_type": "code",
   "execution_count": null,
   "metadata": {},
   "outputs": [],
   "source": [
    "# EDA Inspiration from Kaggle\n",
    "\n",
    "Learn from [IPL 2022 Analysis](https://www.kaggle.com/code/hashimali179/ipl-2022-analysis/notebook) and explore customizations and extensions for building intuition"
   ]
  },
  {
   "cell_type": "code",
   "execution_count": null,
   "metadata": {},
   "outputs": [],
   "source": [
    "import pandas as pd\n",
    "import plotly.express as px\n",
    "import plotly.graph_objects as go\n",
    "data = pd.read_csv('../1-data/kaggle/IPL-2022.csv')\n",
    "print(data.tail())\n",
    "\n",
    "# Plot number of matches won\n",
    "figure = px.bar(data, x=data[\"match_winner\"],\n",
    "            title=\"Number of Matches Won in IPL 2022\")\n",
    "figure.show()\n",
    "\n",
    "# Plot top scorers in color\n",
    "figure = px.bar(data, x=data[\"top_scorer\"], \n",
    "                y = data[\"highscore\"], \n",
    "                color = data[\"highscore\"],\n",
    "            title=\"Top Scorers in IPL 2022\")\n",
    "figure.show()\n",
    "\n",
    "# Plot Team Performance\n",
    "figure = px.bar(data, x=data[\"match_winner\"], color = \"venue\",\n",
    "            title=\"Teams Performance at diffrent Venues in IPL 2022\")\n",
    "figure.show()\n",
    "\n",
    "# Plot Pie Chart\n",
    "venue = data[\"venue\"].value_counts()\n",
    "label = venue.index\n",
    "counts = venue.values\n",
    "colors = ['skyblue','yellow']\n",
    "\n",
    "fig = go.Figure(data=[go.Pie(labels=label, values=counts)])\n",
    "fig.update_layout(title_text='Number of Matches at each Stadium')\n",
    "fig.update_traces(hoverinfo='label+percent', \n",
    "                  textinfo='value', textfont_size=30,\n",
    "                  marker=dict(colors=colors, \n",
    "                              line=dict(color='black', width=2)))\n",
    "fig.show()"
   ]
  },
  {
   "cell_type": "code",
   "execution_count": null,
   "metadata": {},
   "outputs": [],
   "source": []
  },
  {
   "cell_type": "code",
   "execution_count": null,
   "metadata": {},
   "outputs": [],
   "source": []
  }
 ],
 "metadata": {
  "kernelspec": {
   "display_name": "Python 3",
   "language": "python",
   "name": "python3"
  },
  "language_info": {
   "codemirror_mode": {
    "name": "ipython",
    "version": 3
   },
   "file_extension": ".py",
   "mimetype": "text/x-python",
   "name": "python",
   "nbconvert_exporter": "python",
   "pygments_lexer": "ipython3",
   "version": "3.10.13"
  },
  "orig_nbformat": 4
 },
 "nbformat": 4,
 "nbformat_minor": 2
}
