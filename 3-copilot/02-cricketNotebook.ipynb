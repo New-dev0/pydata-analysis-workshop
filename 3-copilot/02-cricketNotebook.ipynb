{
 "cells": [
  {
   "cell_type": "markdown",
   "metadata": {},
   "source": [
    "# Import Required Libraries\n",
    "Import the necessary libraries, including pandas and matplotlib."
   ]
  },
  {
   "cell_type": "code",
   "execution_count": null,
   "metadata": {},
   "outputs": [],
   "source": [
    "# Importing the necessary libraries\n",
    "import pandas as pd\n",
    "import matplotlib.pyplot as plt"
   ]
  },
  {
   "cell_type": "markdown",
   "metadata": {},
   "source": [
    "# Load the IPL-2022.csv Data\n",
    "Use pandas to load the IPL-2022.csv file."
   ]
  },
  {
   "cell_type": "code",
   "execution_count": null,
   "metadata": {},
   "outputs": [],
   "source": [
    "# Load the IPL-2022.csv Data\n",
    "data_path = './../1-data/kaggle/IPL-2022.csv'  # specify the path to the data file\n",
    "ipl_data = pd.read_csv(data_path)  # load the data into a pandas DataFrame\n",
    "\n",
    "# Display the first few rows of the DataFrame to verify it loaded correctly\n",
    "ipl_data.head()"
   ]
  },
  {
   "cell_type": "markdown",
   "metadata": {},
   "source": [
    "# Inspect the Data\n",
    "Use pandas functions like head(), info(), and describe() to inspect the data."
   ]
  },
  {
   "cell_type": "code",
   "execution_count": null,
   "metadata": {},
   "outputs": [],
   "source": [
    "# Inspect the Data\n",
    "# Use the head() function to get the first 5 rows of the DataFrame\n",
    "print(ipl_data.head())\n",
    "\n",
    "# Use the info() function to get a concise summary of the DataFrame\n",
    "print(ipl_data.info())\n",
    "\n",
    "# Use the describe() function to generate descriptive statistics of the DataFrame\n",
    "print(ipl_data.describe())"
   ]
  },
  {
   "cell_type": "markdown",
   "metadata": {},
   "source": [
    "# Data Cleaning\n",
    "Clean the data by handling missing values and outliers."
   ]
  },
  {
   "cell_type": "code",
   "execution_count": null,
   "metadata": {},
   "outputs": [],
   "source": [
    "# Check for missing values\n",
    "missing_values = ipl_data.isnull().sum()\n",
    "print(f\"Missing values in each column:\\n{missing_values}\")\n",
    "\n",
    "# Drop rows with missing values\n",
    "ipl_data_clean = ipl_data.dropna()\n",
    "print(\"\\nAfter dropping rows with missing values:\")\n",
    "print(ipl_data_clean.isnull().sum())\n",
    "\n",
    "# Check for outliers using boxplots\n",
    "for column in ipl_data_clean.columns:\n",
    "    if ipl_data_clean[column].dtype in ['int64', 'float64']:\n",
    "        plt.figure()\n",
    "        ipl_data_clean.boxplot([column])\n",
    "\n",
    "# Handle outliers - this is just an example, you might need to handle outliers differently based on the data\n",
    "Q1 = ipl_data_clean.quantile(0.25)\n",
    "Q3 = ipl_data_clean.quantile(0.75)\n",
    "IQR = Q3 - Q1\n",
    "\n",
    "# Define a function to handle outliers\n",
    "def handle_outliers(value):\n",
    "    if (value < (Q1 - 1.5 * IQR)) | (value > (Q3 + 1.5 * IQR)):\n",
    "        return value.median()\n",
    "    else:\n",
    "        return value\n",
    "\n",
    "# Convert the DataFrame to numeric\n",
    "ipl_data_clean = ipl_data_clean.apply(pd.to_numeric, errors='coerce')\n",
    "\n",
    "# Apply the function to the DataFrame\n",
    "ipl_data_clean = ipl_data_clean.apply(handle_outliers)\n",
    "\n",
    "# Display the cleaned data\n",
    "print(\"\\nCleaned data:\")\n",
    "print(ipl_data_clean.head())"
   ]
  },
  {
   "cell_type": "markdown",
   "metadata": {},
   "source": [
    "# Data Analysis\n",
    "Perform data analysis by exploring relationships between different columns."
   ]
  },
  {
   "cell_type": "code",
   "execution_count": null,
   "metadata": {},
   "outputs": [],
   "source": [
    "# Data Analysis\n",
    "# Perform data analysis by exploring relationships between different columns\n",
    "\n",
    "# Importing necessary libraries for data analysis\n",
    "import seaborn as sns\n",
    "\n",
    "# Correlation matrix\n",
    "corr_matrix = ipl_data_clean.corr()\n",
    "print(\"Correlation matrix:\")\n",
    "print(corr_matrix)\n",
    "\n",
    "# Heatmap of the correlation matrix\n",
    "plt.figure(figsize=(10, 8))\n",
    "sns.heatmap(corr_matrix, annot=True, cmap='coolwarm')\n",
    "plt.title('Heatmap of Correlation Matrix')\n",
    "plt.show()\n",
    "\n",
    "# Pairplot of the DataFrame\n",
    "sns.pairplot(ipl_data_clean)\n",
    "plt.show()\n",
    "\n",
    "# Countplot of a categorical column (replace 'column_name' with the name of a categorical column)\n",
    "sns.countplot(x='column_name', data=ipl_data_clean)\n",
    "plt.title('Countplot of column_name')\n",
    "plt.show()\n",
    "\n",
    "# Boxplot of a numerical column grouped by a categorical column (replace 'num_column' and 'cat_column' with appropriate column names)\n",
    "sns.boxplot(x='cat_column', y='num_column', data=ipl_data_clean)\n",
    "plt.title('Boxplot of num_column grouped by cat_column')\n",
    "plt.show()\n",
    "\n",
    "# Scatterplot of two numerical columns (replace 'num_column1' and 'num_column2' with appropriate column names)\n",
    "sns.scatterplot(x='num_column1', y='num_column2', data=ipl_data_clean)\n",
    "plt.title('Scatterplot of num_column1 vs num_column2')\n",
    "plt.show()"
   ]
  },
  {
   "cell_type": "markdown",
   "metadata": {},
   "source": [
    "# Data Visualization\n",
    "Visualize the data using matplotlib to gain more insights."
   ]
  },
  {
   "cell_type": "code",
   "execution_count": null,
   "metadata": {},
   "outputs": [],
   "source": [
    "# Data Visualization\n",
    "# Importing necessary libraries for data visualization\n",
    "import seaborn as sns\n",
    "import random\n",
    "\n",
    "# Histograms for each numeric column\n",
    "num_columns = ipl_data_clean.select_dtypes(include=['int64', 'float64']).columns\n",
    "colors = random.sample(rainbow_colors, len(num_columns))\n",
    "\n",
    "# Calculate the number of rows and columns for the subplot grid\n",
    "num_rows = (len(num_columns) + 2) // 3  # Add 2 to account for the additional plots\n",
    "num_cols = min(len(num_columns), 3)\n",
    "\n",
    "# Create the subplot grid\n",
    "fig, axes = plt.subplots(num_rows, num_cols, figsize=(15, 5*num_rows))\n",
    "\n",
    "# Flatten the axes array to simplify indexing\n",
    "axes = axes.flatten()\n",
    "\n",
    "# Iterate over the numeric columns and plot the histograms\n",
    "for i, (column, color) in enumerate(zip(num_columns, colors)):\n",
    "    axes[i].hist(ipl_data_clean[column], bins=50, color=color)\n",
    "    axes[i].set_title(f'Histogram of {column}')\n",
    "    axes[i].set_xlabel(column)\n",
    "    axes[i].set_ylabel('Frequency')\n",
    "\n",
    "# Hide any unused subplots\n",
    "for j in range(len(num_columns), num_rows * num_cols):\n",
    "    fig.delaxes(axes[j])\n",
    "\n",
    "# Adjust the spacing between subplots\n",
    "fig.tight_layout()\n",
    "\n",
    "# Show the plot\n",
    "plt.show()\n",
    "\n",
    "# Bar plot for each categorical column (replace 'cat_column' with the name of a categorical column)\n",
    "cat_columns = ipl_data_clean.select_dtypes(include=['object']).columns\n",
    "for column in cat_columns:\n",
    "    plt.figure(figsize=(10,4))\n",
    "    ipl_data_clean[column].value_counts().plot(kind='bar')\n",
    "    plt.title(f'Bar plot of {column}')\n",
    "    plt.show()\n",
    "\n",
    "# Boxplot for each numeric column\n",
    "num_columns = ipl_data_clean.select_dtypes(include=['int64', 'float64']).columns\n",
    "for column in num_columns:\n",
    "    plt.figure(figsize=(5,4))\n",
    "    ipl_data_clean.boxplot(column)\n",
    "    plt.title(f'Box plot of {column}')\n",
    "    plt.show()\n",
    "\n",
    "# Pairplot of the DataFrame\n",
    "sns.pairplot(ipl_data_clean)\n",
    "plt.title('Pairplot of all columns')\n",
    "plt.show()\n",
    "\n",
    "# Correlation matrix heatmap\n",
    "corr_matrix = ipl_data_clean.corr()\n",
    "plt.figure(figsize=(10, 8))\n",
    "sns.heatmap(corr_matrix, annot=True, cmap='coolwarm')\n",
    "plt.title('Heatmap of Correlation Matrix')\n",
    "plt.show()"
   ]
  },
  {
   "cell_type": "code",
   "execution_count": null,
   "metadata": {},
   "outputs": [],
   "source": []
  }
 ],
 "metadata": {
  "kernelspec": {
   "display_name": "Python 3",
   "language": "python",
   "name": "python3"
  },
  "language_info": {
   "codemirror_mode": {
    "name": "ipython",
    "version": 3
   },
   "file_extension": ".py",
   "mimetype": "text/x-python",
   "name": "python",
   "nbconvert_exporter": "python",
   "pygments_lexer": "ipython3",
   "version": "3.10.13"
  },
  "orig_nbformat": 4
 },
 "nbformat": 4,
 "nbformat_minor": 2
}
