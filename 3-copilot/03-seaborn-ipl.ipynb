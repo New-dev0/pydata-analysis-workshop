{
 "cells": [
  {
   "cell_type": "markdown",
   "metadata": {},
   "source": [
    "# Import Required Libraries\n",
    "Import the necessary libraries, including pandas, seaborn, and matplotlib."
   ]
  },
  {
   "cell_type": "code",
   "execution_count": null,
   "metadata": {},
   "outputs": [],
   "source": [
    "\n",
    "# Importing the required libraries\n",
    "\n",
    "# pandas is a software library written for the Python programming language for data manipulation and analysis.\n",
    "import pandas as pd\n",
    "\n",
    "# seaborn is a Python data visualization library based on matplotlib. It provides a high-level interface for drawing attractive and informative statistical graphics.\n",
    "import seaborn as sns\n",
    "\n",
    "# matplotlib is a plotting library for the Python programming language and its numerical mathematics extension NumPy.\n",
    "import matplotlib.pyplot as plt\n"
   ]
  },
  {
   "cell_type": "markdown",
   "metadata": {},
   "source": [
    "# Load the IPL-2022.csv Dataset\n",
    "Use pandas to load the IPL-2022.csv dataset."
   ]
  },
  {
   "cell_type": "code",
   "execution_count": null,
   "metadata": {},
   "outputs": [],
   "source": [
    "\n",
    "# Load the IPL-2022.csv dataset using pandas\n",
    "ipl_data = pd.read_csv('./../data/kaggle/IPL-2022.csv')\n",
    "\n",
    "# Display the first 5 rows of the dataset\n",
    "ipl_data.head()\n"
   ]
  },
  {
   "cell_type": "markdown",
   "metadata": {},
   "source": [
    "# Data Overview\n",
    "Provide an overview of the dataset using pandas functions like head(), info(), and describe()."
   ]
  },
  {
   "cell_type": "code",
   "execution_count": null,
   "metadata": {},
   "outputs": [],
   "source": [
    "\n",
    "# Display the information about the dataset\n",
    "ipl_data.info()\n",
    "\n",
    "# Display the statistical summary of the dataset\n",
    "ipl_data.describe()\n"
   ]
  },
  {
   "cell_type": "markdown",
   "metadata": {},
   "source": [
    "# Visualize the Distribution of Runs\n",
    "Use seaborn's distplot() or histplot() function to visualize the distribution of runs in the dataset."
   ]
  },
  {
   "cell_type": "code",
   "execution_count": null,
   "metadata": {},
   "outputs": [],
   "source": [
    "\n",
    "# Check if the 'highscore' column exists in the dataset\n",
    "if 'highscore' in ipl_data.columns:\n",
    "    # Use seaborn's distplot() function to visualize the distribution of highscores in the dataset\n",
    "    sns.distplot(ipl_data['highscore'], kde=False, bins=30)\n",
    "    \n",
    "    # Set the title for the plot\n",
    "    plt.title('Distribution of Highscores')\n",
    "    \n",
    "    # Set the x-label for the plot\n",
    "    plt.xlabel('Highscores')\n",
    "    \n",
    "    # Set the y-label for the plot\n",
    "    plt.ylabel('Frequency')\n",
    "    \n",
    "    # Display the plot\n",
    "    plt.show()\n",
    "else:\n",
    "    print(\"'highscore' column does not exist in the dataset.\")\n"
   ]
  },
  {
   "cell_type": "markdown",
   "metadata": {},
   "source": [
    "# Visualize the Relationship between Variables\n",
    "Use seaborn's scatterplot() or regplot() function to visualize the relationship between two variables."
   ]
  },
  {
   "cell_type": "code",
   "execution_count": null,
   "metadata": {},
   "outputs": [],
   "source": [
    "\n",
    "# Visualize the Relationship between Variables\n",
    "\n",
    "# Check if the 'runs' and 'wickets' columns exist in the dataset\n",
    "if 'runs' in ipl_data.columns and 'wickets' in ipl_data.columns:\n",
    "    # Use seaborn's scatterplot() function to visualize the relationship between 'runs' and 'wickets'\n",
    "    sns.scatterplot(x='runs', y='wickets', data=ipl_data)\n",
    "    \n",
    "    # Set the title for the plot\n",
    "    plt.title('Relationship between Runs and Wickets')\n",
    "    \n",
    "    # Set the x-label for the plot\n",
    "    plt.xlabel('Runs')\n",
    "    \n",
    "    # Set the y-label for the plot\n",
    "    plt.ylabel('Wickets')\n",
    "    \n",
    "    # Display the plot\n",
    "    plt.show()\n",
    "else:\n",
    "    print(\"'runs' or 'wickets' column does not exist in the dataset.\")\n"
   ]
  },
  {
   "cell_type": "markdown",
   "metadata": {},
   "source": [
    "# Visualize Categorical Data\n",
    "Use seaborn's boxplot() or violinplot() function to visualize categorical data."
   ]
  },
  {
   "cell_type": "code",
   "execution_count": null,
   "metadata": {},
   "outputs": [],
   "source": [
    "\n",
    "# Visualize Categorical Data\n",
    "\n",
    "# Check if the 'team' and 'runs' columns exist in the dataset\n",
    "if 'team' in ipl_data.columns and 'runs' in ipl_data.columns:\n",
    "    # Use seaborn's boxplot() function to visualize the distribution of runs for each team\n",
    "    sns.boxplot(x='team', y='runs', data=ipl_data)\n",
    "    \n",
    "    # Set the title for the plot\n",
    "    plt.title('Distribution of Runs for Each Team')\n",
    "    \n",
    "    # Set the x-label for the plot\n",
    "    plt.xlabel('Team')\n",
    "    \n",
    "    # Set the y-label for the plot\n",
    "    plt.ylabel('Runs')\n",
    "    \n",
    "    # Rotate the x-axis labels for better visibility\n",
    "    plt.xticks(rotation=90)\n",
    "    \n",
    "    # Display the plot\n",
    "    plt.show()\n",
    "else:\n",
    "    print(\"'team' or 'runs' column does not exist in the dataset.\")\n"
   ]
  },
  {
   "cell_type": "code",
   "execution_count": null,
   "metadata": {},
   "outputs": [],
   "source": [
    "# Check if the 'highscore' and 'venue' columns exist in the dataset\n",
    "if 'highscore' in ipl_data.columns and 'venue' in ipl_data.columns:\n",
    "    # Use seaborn's boxplot() function to visualize the distribution of highscore for each venue\n",
    "    sns.boxplot(x='venue', y='highscore', data=ipl_data)\n",
    "    \n",
    "    # Set the title for the plot\n",
    "    plt.title('Distribution of Highscore for Each Venue')\n",
    "    \n",
    "    # Set the x-label for the plot\n",
    "    plt.xlabel('Venue')\n",
    "    \n",
    "    # Set the y-label for the plot\n",
    "    plt.ylabel('Highscore')\n",
    "    \n",
    "    # Rotate the x-axis labels for better visibility\n",
    "    plt.xticks(rotation=90)\n",
    "    \n",
    "    # Display the plot\n",
    "    plt.show()\n",
    "else:\n",
    "    print(\"'highscore' or 'venue' column does not exist in the dataset.\")\n"
   ]
  }
 ],
 "metadata": {
  "kernelspec": {
   "display_name": "Python 3",
   "language": "python",
   "name": "python3"
  },
  "language_info": {
   "codemirror_mode": {
    "name": "ipython",
    "version": 3
   },
   "file_extension": ".py",
   "mimetype": "text/x-python",
   "name": "python",
   "nbconvert_exporter": "python",
   "pygments_lexer": "ipython3",
   "version": "3.10.8"
  },
  "orig_nbformat": 4
 },
 "nbformat": 4,
 "nbformat_minor": 2
}
